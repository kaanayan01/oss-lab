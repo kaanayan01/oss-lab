{
 "cells": [
  {
   "cell_type": "code",
   "execution_count": 5,
   "metadata": {},
   "outputs": [
    {
     "name": "stdout",
     "output_type": "stream",
     "text": [
      "The unsorted list is: [7, 2, 1, 6]\n",
      "The sorted new list is: [1, 2, 6, 7]\n"
     ]
    }
   ],
   "source": [
    "    def insertion_sort(list1):\n",
    "\n",
    "        for i in range(1, len(list1)):\n",
    "\n",
    "            a = list1[i]\n",
    "\n",
    "            j = i - 1\n",
    "\n",
    "            while j >= 0 and a < list1[j]:\n",
    "                list1[j + 1] = list1[j]\n",
    "                j -= 1\n",
    "\n",
    "            list1[j + 1] = a\n",
    "\n",
    "        return list1\n",
    "\n",
    "    list1 = [ 7, 2, 1, 6 ]\n",
    "    print(\"The unsorted list is:\", list1)\n",
    "    print(\"The sorted new list is:\", insertion_sort(list1))\n"
   ]
  },
  {
   "cell_type": "code",
   "execution_count": null,
   "metadata": {},
   "outputs": [],
   "source": []
  },
  {
   "cell_type": "code",
   "execution_count": null,
   "metadata": {},
   "outputs": [],
   "source": []
  }
 ],
 "metadata": {
  "kernelspec": {
   "display_name": "Python 3",
   "language": "python",
   "name": "python3"
  },
  "language_info": {
   "codemirror_mode": {
    "name": "ipython",
    "version": 3
   },
   "file_extension": ".py",
   "mimetype": "text/x-python",
   "name": "python",
   "nbconvert_exporter": "python",
   "pygments_lexer": "ipython3",
   "version": "3.7.3"
  }
 },
 "nbformat": 4,
 "nbformat_minor": 2
}
