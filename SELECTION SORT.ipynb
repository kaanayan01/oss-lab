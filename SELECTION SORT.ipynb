{
 "cells": [
  {
   "cell_type": "code",
   "execution_count": 8,
   "metadata": {},
   "outputs": [
    {
     "name": "stdout",
     "output_type": "stream",
     "text": [
      "Sorted Array in Ascending Order is :\n",
      "[1, 5, 6, 23, 88]\n"
     ]
    }
   ],
   "source": [
    "def selectionSort(array, size):\n",
    "\n",
    "        for s in range(size):\n",
    "            min_idx = s\n",
    "\n",
    "            for i in range(s + 1, size):\n",
    "\n",
    "                if array[i] < array[min_idx]:\n",
    "                    min_idx = i\n",
    "\n",
    "            (array[s], array[min_idx]) = (array[min_idx], array[s])\n",
    "\n",
    "data = [ 23,5,88,1,6]\n",
    "size = len(data)\n",
    "selectionSort(data, size)\n",
    "\n",
    "print('Sorted Array in Ascending Order is :')\n",
    "print(data)\n"
   ]
  },
  {
   "cell_type": "code",
   "execution_count": null,
   "metadata": {},
   "outputs": [],
   "source": []
  },
  {
   "cell_type": "code",
   "execution_count": null,
   "metadata": {},
   "outputs": [],
   "source": []
  }
 ],
 "metadata": {
  "kernelspec": {
   "display_name": "Python 3",
   "language": "python",
   "name": "python3"
  },
  "language_info": {
   "codemirror_mode": {
    "name": "ipython",
    "version": 3
   },
   "file_extension": ".py",
   "mimetype": "text/x-python",
   "name": "python",
   "nbconvert_exporter": "python",
   "pygments_lexer": "ipython3",
   "version": "3.7.3"
  }
 },
 "nbformat": 4,
 "nbformat_minor": 2
}
